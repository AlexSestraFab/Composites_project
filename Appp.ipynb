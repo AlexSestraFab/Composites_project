{
 "cells": [
  {
   "cell_type": "code",
   "execution_count": 1,
   "id": "67e9f970",
   "metadata": {},
   "outputs": [],
   "source": [
    "from flask import Flask, request, render_template\n",
    "import numpy as np\n",
    "from tensorflow.keras.models import load_model\n",
    "import os"
   ]
  },
  {
   "cell_type": "code",
   "execution_count": 2,
   "id": "51f7c315",
   "metadata": {},
   "outputs": [
    {
     "name": "stdout",
     "output_type": "stream",
     "text": [
      "Путь к шаблонам: d:\\DATA SCIENCE Practice\\Project\\templates\n",
      "Содержимое папки templates: ['index.html']\n"
     ]
    }
   ],
   "source": [
    "print(\"Путь к шаблонам:\", os.path.abspath('templates'))\n",
    "print(\"Содержимое папки templates:\", os.listdir('templates'))"
   ]
  },
  {
   "cell_type": "code",
   "execution_count": 3,
   "id": "b48e6ef4",
   "metadata": {},
   "outputs": [
    {
     "name": "stdout",
     "output_type": "stream",
     "text": [
      " * Serving Flask app '__main__'\n",
      " * Debug mode: on\n"
     ]
    },
    {
     "name": "stderr",
     "output_type": "stream",
     "text": [
      "c:\\Users\\KABAN\\anaconda3\\Lib\\site-packages\\keras\\src\\saving\\saving_lib.py:757: UserWarning: Skipping variable loading for optimizer 'adam', because it has 10 variables whereas the saved optimizer has 2 variables. \n",
      "  saveable.load_own_variables(weights_store.get(inner_path))\n",
      "WARNING: This is a development server. Do not use it in a production deployment. Use a production WSGI server instead.\n",
      " * Running on http://127.0.0.1:5000\n",
      "Press CTRL+C to quit\n"
     ]
    }
   ],
   "source": [
    "app = Flask(__name__)\n",
    "\n",
    "try:\n",
    "    model = load_model('best_composite_model.keras')\n",
    "except Exception as e:\n",
    "    print(f\"Ошибка загрузки модели: {e}\")\n",
    "    model = None\n",
    "\n",
    "@app.route('/', methods=['GET', 'POST'])\n",
    "def index():\n",
    "    error = None\n",
    "    prediction = None\n",
    "    \n",
    "    if request.method == 'POST':\n",
    "        if model is None:\n",
    "            error = \"Модель не загружена\"\n",
    "        else:\n",
    "            try:\n",
    "                # Получаем данные из формы\n",
    "                input_data = np.array([[\n",
    "                float(request.form.get('density', 0)),\n",
    "                float(request.form.get('elastic_modulus', 0)),\n",
    "                float(request.form.get('hardener_amount', 0)),\n",
    "                float(request.form.get('epoxy_group', 0)),\n",
    "                float(request.form.get('flash_point', 0)),\n",
    "                float(request.form.get('surface_density', 0)),\n",
    "                float(request.form.get('elastic_modulus_tension', 0)),\n",
    "                float(request.form.get('tensile_strength', 0)),\n",
    "                float(request.form.get('resin_consumption', 0)),\n",
    "                float(request.form.get('angle', 0)),\n",
    "                float(request.form.get('step', 0)),\n",
    "                float(request.form.get('density_weave', 0))\n",
    "                ]], dtype=np.float32)\n",
    "                \n",
    "                prediction = float(model.predict(input_data)[0][0])\n",
    "                \n",
    "            except Exception as e:\n",
    "                error = f\"Ошибка предсказания: {str(e)}\"\n",
    "    \n",
    "    return render_template('index.html', \n",
    "                        prediction=prediction,\n",
    "                        error=error)\n",
    "\n",
    "if __name__ == '__main__':\n",
    "    try:\n",
    "        app.run(debug=True, use_reloader=False)\n",
    "    except KeyboardInterrupt:\n",
    "        print(\"Сервер остановлен\")\n",
    "    except Exception as e:\n",
    "        print(f\"Ошибка: {e}\")"
   ]
  }
 ],
 "metadata": {
  "kernelspec": {
   "display_name": "base",
   "language": "python",
   "name": "python3"
  },
  "language_info": {
   "codemirror_mode": {
    "name": "ipython",
    "version": 3
   },
   "file_extension": ".py",
   "mimetype": "text/x-python",
   "name": "python",
   "nbconvert_exporter": "python",
   "pygments_lexer": "ipython3",
   "version": "3.12.3"
  }
 },
 "nbformat": 4,
 "nbformat_minor": 5
}
